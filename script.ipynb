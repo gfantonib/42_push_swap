{
 "cells": [
  {
   "cell_type": "code",
   "execution_count": null,
   "metadata": {},
   "outputs": [],
   "source": [
    "import subprocess\n",
    "\n",
    "# chose rep and rep name\n",
    "repository = \"https://github.com/mcombeau/push_swap.git\"\n",
    "repository_name = \"mia_combeau\"\n",
    "executable_name = \"push_swap\"\n",
    "\n",
    "command_1 = [\"git\", \"clone\", repository, repository_name,]\n",
    "command_2 = [\"make\", \"-C\", repository_name]\n",
    "print(command_1, command_2)\n",
    "subprocess.run(command_1)\n",
    "subprocess.run(command_2)\n",
    "\n"
   ]
  }
 ],
 "metadata": {
  "kernelspec": {
   "display_name": "Python 3",
   "language": "python",
   "name": "python3"
  },
  "language_info": {
   "codemirror_mode": {
    "name": "ipython",
    "version": 3
   },
   "file_extension": ".py",
   "mimetype": "text/x-python",
   "name": "python",
   "nbconvert_exporter": "python",
   "pygments_lexer": "ipython3",
   "version": "3.8.10"
  }
 },
 "nbformat": 4,
 "nbformat_minor": 2
}
