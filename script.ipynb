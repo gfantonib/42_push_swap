{
 "cells": [
  {
   "cell_type": "code",
   "execution_count": 26,
   "metadata": {},
   "outputs": [
    {
     "name": "stdout",
     "output_type": "stream",
     "text": [
      "ls -la\n",
      "total 44\n",
      "drwxr-xr-x 7 gfantoni candidate 4096 Jan 14 18:04 .\n",
      "drwxr-xr-x 3 gfantoni candidate 4096 Jan 12 18:27 ..\n",
      "-rw-r--r-- 1 gfantoni candidate 1827 Jan 14 18:03 fucking_script.py\n",
      "drwxr-xr-x 8 gfantoni candidate 4096 Jan 14 17:26 .git\n",
      "drwxr-xr-x 6 gfantoni candidate 4096 Jan 14 18:04 mia_combeau\n",
      "-rw-r--r-- 1 gfantoni candidate  648 Jan 12 11:14 README.md\n",
      "-rw-r--r-- 1 gfantoni candidate 1855 Jan 14 17:48 script.ipynb\n",
      "-rw-r--r-- 1 gfantoni candidate 1545 Jan 14 17:52 script.py\n",
      "drwxr-xr-x 2 gfantoni candidate 4096 Jan 12 10:39 tests\n",
      "drwxr-xr-x 2 gfantoni candidate 4096 Jan 11 11:13 .vscode\n",
      "drwxr-xr-x 6 gfantoni candidate 4096 Jan 13 12:18 yigit_ogun\n"
     ]
    },
    {
     "data": {
      "text/plain": [
       "CompletedProcess(args='ls -la', returncode=0)"
      ]
     },
     "execution_count": 26,
     "metadata": {},
     "output_type": "execute_result"
    }
   ],
   "source": [
    "import subprocess\n",
    "\n",
    "# chose rep and rep name\n",
    "cmd = \"ls\"\n",
    "param = \"-la\"\n",
    "\n",
    "print(cmd, param)\n",
    "command_1 = [cmd, param]\n",
    "command_2 = \"ls -la\"\n",
    "subprocess.run(command_2, shell=True)\n",
    "\n"
   ]
  },
  {
   "cell_type": "code",
   "execution_count": 31,
   "metadata": {},
   "outputs": [
    {
     "name": "stdout",
     "output_type": "stream",
     "text": [
      "['git', 'clone', 'https://github.com/mcombeau/push_swap.git', 'mia_combeau']\n",
      "['make', '-C', 'mia_combeau']\n",
      "['git', 'clone', 'https://github.com/LeoFu9487/push_swap.git', 'leo_fu']\n",
      "['make', '-C', 'leo_fu']\n",
      "['git', 'clone', 'https://github.com/ayogun/push_swap.git', 'yigit_ogun']\n",
      "['make', '-C', 'yigit_ogun']\n"
     ]
    }
   ],
   "source": [
    "repository = [\"https://github.com/mcombeau/push_swap.git\", \"https://github.com/LeoFu9487/push_swap.git\", \"https://github.com/ayogun/push_swap.git\"]\n",
    "repository_name = [\"mia_combeau\", \"leo_fu\", \"yigit_ogun\"]\n",
    "executable_name = \"push_swap\"\n",
    "\n",
    "rep_i = 0\n",
    "for rep in repository:\n",
    "\n",
    "\t# git clone mia rep and make executable\n",
    "\tcommand_1 = [\"git\", \"clone\", repository[rep_i], repository_name[rep_i],]\n",
    "\tcommand_2 = [\"make\", \"-C\", repository_name[rep_i]]\n",
    "\tprint(command_1)\n",
    "\tprint(command_2)\n",
    "\n",
    "\trep_i = rep_i + 1"
   ]
  },
  {
   "cell_type": "code",
   "execution_count": 48,
   "metadata": {},
   "outputs": [
    {
     "name": "stdout",
     "output_type": "stream",
     "text": [
      "./mia_combeau/push_swap 2 6 7 0 1 9 4 3 8 5\n",
      "./mia_combeau/push_swap 2 6 7 0 1 9 4 3 8 5\n"
     ]
    }
   ],
   "source": [
    "import random\n",
    "\n",
    "repository = [\"https://github.com/mcombeau/push_swap.git\", \"https://github.com/LeoFu9487/push_swap.git\", \"https://github.com/ayogun/push_swap.git\"]\n",
    "repository_name = [\"mia_combeau\", \"leo_fu\", \"yigit_ogun\"]\n",
    "executable_name = \"push_swap\"\n",
    "\n",
    "rep_i = 0\n",
    "# random number generator\n",
    "randomlist = []\n",
    "for i in range(0, 10):\n",
    "\trandomlist.append(i)\n",
    "random.shuffle(randomlist)\n",
    "numbers = ' '.join(map(str, randomlist))\n",
    "\n",
    "# get the exec time of ./push_swap\n",
    "command_1 = f\"./{repository_name[rep_i]}/{executable_name} {numbers}\"\n",
    "# moves_and_time = subprocess.run(command_1, shell=True, check=True, stdout=subprocess.PIPE, text=True)\n",
    "\n",
    "print(f\"./{repository_name[rep_i]}/{executable_name} {numbers}\")\n",
    "print(command_1)"
   ]
  }
 ],
 "metadata": {
  "kernelspec": {
   "display_name": "Python 3",
   "language": "python",
   "name": "python3"
  },
  "language_info": {
   "codemirror_mode": {
    "name": "ipython",
    "version": 3
   },
   "file_extension": ".py",
   "mimetype": "text/x-python",
   "name": "python",
   "nbconvert_exporter": "python",
   "pygments_lexer": "ipython3",
   "version": "3.8.10"
  }
 },
 "nbformat": 4,
 "nbformat_minor": 2
}
